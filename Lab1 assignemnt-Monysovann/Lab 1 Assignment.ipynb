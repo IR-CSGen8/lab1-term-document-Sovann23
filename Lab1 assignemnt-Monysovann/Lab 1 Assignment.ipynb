{
 "cells": [
  {
   "cell_type": "code",
   "execution_count": 3,
   "id": "34e21f62",
   "metadata": {},
   "outputs": [],
   "source": [
    "# Define the documents as a dictionary where keys are document titles and values are document content\n",
    "documents = {\n",
    "    \"Article: Pandas Basics\": \"This article covers the basics of using Pandas in Python.\",\n",
    "    \"Tutorial: Data Visualization\": \"Learn about data visualization techniques with Python libraries.\",\n",
    "    \"Case Study: Sales Analysis\": \"Analyze sales data using Python for a real-world case study.\"\n",
    "}\n"
   ]
  },
  {
   "cell_type": "code",
   "execution_count": 21,
   "id": "ee8fdf0c",
   "metadata": {},
   "outputs": [
    {
     "name": "stdout",
     "output_type": "stream",
     "text": [
      "['Article: Pandas Basics', 'Tutorial: Data Visualization', 'Case Study: Sales Analysis']\n"
     ]
    }
   ],
   "source": [
    "# get the keys of the documents and store it in the list\n",
    "key_documents = list(documents.keys())\n",
    "\n",
    "\n",
    "\n",
    "# display the list of the key documents\n",
    "print(key_documents)"
   ]
  },
  {
   "cell_type": "code",
   "execution_count": 13,
   "id": "e5398841",
   "metadata": {},
   "outputs": [
    {
     "name": "stdout",
     "output_type": "stream",
     "text": [
      "['Article', 'Tutorial', 'Case Study']\n"
     ]
    }
   ],
   "source": [
    "# Extract the category of the key documents and store it \n",
    "category = []\n",
    "for key in key_documents:\n",
    "    category.append(key.split(':')[0])\n",
    "print(category)"
   ]
  },
  {
   "cell_type": "code",
   "execution_count": 15,
   "id": "a5353707",
   "metadata": {},
   "outputs": [
    {
     "name": "stdout",
     "output_type": "stream",
     "text": [
      "['This article covers the basics of using Pandas in Python.', 'Learn about data visualization techniques with Python libraries.', 'Analyze sales data using Python for a real-world case study.']\n"
     ]
    }
   ],
   "source": [
    "\n",
    "# Extract the content values and put them in a list\n",
    "document_content_list = list(documents.values())\n",
    "\n",
    "# Display the list of document content\n",
    "print(document_content_list)"
   ]
  },
  {
   "cell_type": "code",
   "execution_count": 24,
   "id": "bedcd86f",
   "metadata": {},
   "outputs": [
    {
     "data": {
      "text/plain": [
       "{'Analyze',\n",
       " 'Learn',\n",
       " 'Pandas',\n",
       " 'Python',\n",
       " 'Python.',\n",
       " 'This',\n",
       " 'a',\n",
       " 'about',\n",
       " 'article',\n",
       " 'basics',\n",
       " 'case',\n",
       " 'covers',\n",
       " 'data',\n",
       " 'for',\n",
       " 'in',\n",
       " 'libraries.',\n",
       " 'of',\n",
       " 'real-world',\n",
       " 'sales',\n",
       " 'study.',\n",
       " 'techniques',\n",
       " 'the',\n",
       " 'using',\n",
       " 'visualization',\n",
       " 'with'}"
      ]
     },
     "execution_count": 24,
     "metadata": {},
     "output_type": "execute_result"
    }
   ],
   "source": [
    "# Gather the set of all unique terms from the list content of document and diplay the result\n",
    "unique_terms = {term for doc in document_content_list for term in doc.split()}\n",
    "\n",
    "unique_terms"
   ]
  },
  {
   "cell_type": "code",
   "execution_count": 27,
   "id": "41334ffd",
   "metadata": {},
   "outputs": [
    {
     "data": {
      "text/plain": [
       "{'Pandas': [1, 0, 0],\n",
       " 'article': [1, 0, 0],\n",
       " 'Analyze': [0, 0, 1],\n",
       " 'with': [0, 1, 0],\n",
       " 'covers': [1, 0, 0],\n",
       " 'study.': [0, 0, 1],\n",
       " 'Python': [1, 1, 1],\n",
       " 'case': [0, 0, 1],\n",
       " 'techniques': [0, 1, 0],\n",
       " 'Python.': [1, 0, 0],\n",
       " 'sales': [0, 0, 1],\n",
       " 'of': [1, 0, 0],\n",
       " 'real-world': [0, 0, 1],\n",
       " 'visualization': [0, 1, 0],\n",
       " 'about': [0, 1, 0],\n",
       " 'libraries.': [0, 1, 0],\n",
       " 'data': [0, 1, 1],\n",
       " 'the': [1, 0, 0],\n",
       " 'in': [1, 0, 1],\n",
       " 'a': [1, 1, 1],\n",
       " 'using': [1, 0, 1],\n",
       " 'Learn': [0, 1, 0],\n",
       " 'This': [1, 0, 0],\n",
       " 'basics': [1, 0, 0],\n",
       " 'for': [0, 0, 1]}"
      ]
     },
     "execution_count": 27,
     "metadata": {},
     "output_type": "execute_result"
    }
   ],
   "source": [
    "# create a matrix for the document by using the unique term\n",
    "doc_term_matrix = {}\n",
    "\n",
    "# your code here\n",
    "for term in unique_terms:\n",
    "    doc_term_matrix[term] = []\n",
    "\n",
    "    for doc in document_content_list:\n",
    "        if term in doc:\n",
    "            doc_term_matrix[term].append(1)\n",
    "        else: doc_term_matrix[term].append(0)\n",
    "\n",
    "# display the result of the matrix\n",
    "doc_term_matrix"
   ]
  },
  {
   "cell_type": "code",
   "execution_count": 33,
   "id": "a8a41b23",
   "metadata": {},
   "outputs": [
    {
     "name": "stdout",
     "output_type": "stream",
     "text": [
      "[1 0 0]\n",
      "[1 1 1]\n",
      "-------\n",
      "[1 0 0]\n",
      "['This article covers the basics of using Pandas in Python.'\n",
      " 'Learn about data visualization techniques with Python libraries.'\n",
      " 'Analyze sales data using Python for a real-world case study.']\n"
     ]
    }
   ],
   "source": [
    "# import the numpy library if it doesn't work you need to install numpy\n",
    "import numpy as np\n",
    "\n",
    "docs_array = np.array(document_content_list, dtype='object')\n",
    "\n",
    "v1 = np.array(doc_term_matrix['the'])    \n",
    "v2 = np.array(doc_term_matrix['Python'])\n",
    "\n",
    "print(v1)\n",
    "print(v2)\n",
    "print('-------')\n",
    "\n",
    "# find the documents that have both terms from v1 and v2\n",
    "v3 = v1&v2\n",
    "\n",
    "print(v3)\n",
    "\n",
    "# display the content document from the result\n",
    "print(docs_array)"
   ]
  },
  {
   "cell_type": "code",
   "execution_count": 32,
   "id": "11484192",
   "metadata": {},
   "outputs": [
    {
     "name": "stdout",
     "output_type": "stream",
     "text": [
      "[1 0 0]\n",
      "[1 1 1]\n",
      "-------\n",
      "[1 1 1]\n"
     ]
    }
   ],
   "source": [
    "# find the document for those have at least one word\n",
    "\n",
    "v1 = np.array(doc_term_matrix['the'])    \n",
    "v2 = np.array(doc_term_matrix['Python'])\n",
    "\n",
    "print(v1)\n",
    "print(v2)\n",
    "print('-------')\n",
    "v3 = v1 | v2\n",
    "print(v3)"
   ]
  },
  {
   "cell_type": "code",
   "execution_count": 27,
   "id": "bd756812",
   "metadata": {},
   "outputs": [
    {
     "name": "stdout",
     "output_type": "stream",
     "text": [
      "     Title                               content                           \n",
      "0  Document 1           This is the first document. It contains some words.\n",
      "1  Document 2  The second document is a bit longer and has different words.\n",
      "2  Document 3  The third document is short. Short documents can be concise.\n"
     ]
    }
   ],
   "source": [
    "import pandas as pd\n",
    "df = pd.read_csv('tdoc.csv', header=None, names=['Title', 'content'])\n",
    "pd.options.display.colheader_justify = \"center\"\n",
    "print(df.to_string())"
   ]
  },
  {
   "cell_type": "code",
   "execution_count": 29,
   "id": "40abb394",
   "metadata": {},
   "outputs": [
    {
     "data": {
      "text/plain": [
       "0    Document 1\n",
       "1    Document 2\n",
       "2    Document 3\n",
       "Name: Title, dtype: object"
      ]
     },
     "execution_count": 29,
     "metadata": {},
     "output_type": "execute_result"
    }
   ],
   "source": [
    "df['Title']"
   ]
  },
  {
   "cell_type": "code",
   "execution_count": 32,
   "id": "11ea3c2d",
   "metadata": {},
   "outputs": [
    {
     "ename": "KeyError",
     "evalue": "'content'",
     "output_type": "error",
     "traceback": [
      "\u001b[0;31m---------------------------------------------------------------------------\u001b[0m",
      "\u001b[0;31mKeyError\u001b[0m                                  Traceback (most recent call last)",
      "\u001b[1;32m/Users/macbookpro/Documents/Term 6/Information web retrival/Lab assignment/CSGen8DS-Information-Retrieval/Lab 1 Assignment.ipynb Cell 11\u001b[0m line \u001b[0;36m1\n\u001b[0;32m----> <a href='vscode-notebook-cell:/Users/macbookpro/Documents/Term%206/Information%20web%20retrival/Lab%20assignment/CSGen8DS-Information-Retrieval/Lab%201%20Assignment.ipynb#X13sZmlsZQ%3D%3D?line=0'>1</a>\u001b[0m unique_terms \u001b[39m=\u001b[39m {term \u001b[39mfor\u001b[39;00m doc \u001b[39min\u001b[39;00m df[\u001b[39m'\u001b[39;49m\u001b[39mcontent\u001b[39;49m\u001b[39m'\u001b[39;49m] \u001b[39mfor\u001b[39;00m term \u001b[39min\u001b[39;00m doc\u001b[39m.\u001b[39msplit()}\n\u001b[1;32m      <a href='vscode-notebook-cell:/Users/macbookpro/Documents/Term%206/Information%20web%20retrival/Lab%20assignment/CSGen8DS-Information-Retrieval/Lab%201%20Assignment.ipynb#X13sZmlsZQ%3D%3D?line=1'>2</a>\u001b[0m unique_terms\n\u001b[1;32m      <a href='vscode-notebook-cell:/Users/macbookpro/Documents/Term%206/Information%20web%20retrival/Lab%20assignment/CSGen8DS-Information-Retrieval/Lab%201%20Assignment.ipynb#X13sZmlsZQ%3D%3D?line=3'>4</a>\u001b[0m df \u001b[39m=\u001b[39m pd\u001b[39m.\u001b[39mDataFrame(unique_terms)\n",
      "File \u001b[0;32m/Library/Frameworks/Python.framework/Versions/3.11/lib/python3.11/site-packages/pandas/core/frame.py:3807\u001b[0m, in \u001b[0;36mDataFrame.__getitem__\u001b[0;34m(self, key)\u001b[0m\n\u001b[1;32m   3805\u001b[0m \u001b[39mif\u001b[39;00m \u001b[39mself\u001b[39m\u001b[39m.\u001b[39mcolumns\u001b[39m.\u001b[39mnlevels \u001b[39m>\u001b[39m \u001b[39m1\u001b[39m:\n\u001b[1;32m   3806\u001b[0m     \u001b[39mreturn\u001b[39;00m \u001b[39mself\u001b[39m\u001b[39m.\u001b[39m_getitem_multilevel(key)\n\u001b[0;32m-> 3807\u001b[0m indexer \u001b[39m=\u001b[39m \u001b[39mself\u001b[39;49m\u001b[39m.\u001b[39;49mcolumns\u001b[39m.\u001b[39;49mget_loc(key)\n\u001b[1;32m   3808\u001b[0m \u001b[39mif\u001b[39;00m is_integer(indexer):\n\u001b[1;32m   3809\u001b[0m     indexer \u001b[39m=\u001b[39m [indexer]\n",
      "File \u001b[0;32m/Library/Frameworks/Python.framework/Versions/3.11/lib/python3.11/site-packages/pandas/core/indexes/range.py:395\u001b[0m, in \u001b[0;36mRangeIndex.get_loc\u001b[0;34m(self, key, method, tolerance)\u001b[0m\n\u001b[1;32m    393\u001b[0m             \u001b[39mraise\u001b[39;00m \u001b[39mKeyError\u001b[39;00m(key) \u001b[39mfrom\u001b[39;00m \u001b[39merr\u001b[39;00m\n\u001b[1;32m    394\u001b[0m     \u001b[39mself\u001b[39m\u001b[39m.\u001b[39m_check_indexing_error(key)\n\u001b[0;32m--> 395\u001b[0m     \u001b[39mraise\u001b[39;00m \u001b[39mKeyError\u001b[39;00m(key)\n\u001b[1;32m    396\u001b[0m \u001b[39mreturn\u001b[39;00m \u001b[39msuper\u001b[39m()\u001b[39m.\u001b[39mget_loc(key, method\u001b[39m=\u001b[39mmethod, tolerance\u001b[39m=\u001b[39mtolerance)\n",
      "\u001b[0;31mKeyError\u001b[0m: 'content'"
     ]
    }
   ],
   "source": [
    "unique_terms = {term for doc in df['content'] for term in doc.split()}\n",
    "unique_terms\n",
    "\n",
    "df = pd.DataFrame(unique_terms)\n",
    "df.to_csv(\"tdoc2.csv\", header=False, index=False)"
   ]
  }
 ],
 "metadata": {
  "kernelspec": {
   "display_name": "base",
   "language": "python",
   "name": "python3"
  },
  "language_info": {
   "codemirror_mode": {
    "name": "ipython",
    "version": 3
   },
   "file_extension": ".py",
   "mimetype": "text/x-python",
   "name": "python",
   "nbconvert_exporter": "python",
   "pygments_lexer": "ipython3",
   "version": "3.11.3"
  }
 },
 "nbformat": 4,
 "nbformat_minor": 5
}
